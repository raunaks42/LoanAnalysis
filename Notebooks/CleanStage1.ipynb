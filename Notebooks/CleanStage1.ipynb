{
 "cells": [
  {
   "cell_type": "code",
   "execution_count": 2,
   "metadata": {},
   "outputs": [],
   "source": [
    "import pandas as pd\n",
    "data=pd.read_csv(\"C:/Users/rauna/Desktop/IDS Project/credit_train.csv\")\n",
    "data['Credit Score']=data['Credit Score'].fillna(int(data['Credit Score'].median()))\n",
    "data['Annual Income']=data['Annual Income'].fillna(int(data['Annual Income'].median()))\n",
    "data['Years in current job']=data['Years in current job'].fillna('0 years')\n",
    "data['Months since last delinquent']=data['Months since last delinquent'].fillna('300')\n",
    "i=0\n",
    "for row in data['Purpose']:\n",
    "    if(row=='other'):\n",
    "        data.loc[i,'Purpose']='Other'\n",
    "    i=i+1\n",
    "data=data[:100000]\n",
    "data.to_csv(\"C:/Users/rauna/Desktop/IDS project/credit_train_clean.csv\")"
   ]
  },
  {
   "cell_type": "code",
   "execution_count": null,
   "metadata": {},
   "outputs": [],
   "source": []
  },
  {
   "cell_type": "code",
   "execution_count": null,
   "metadata": {},
   "outputs": [],
   "source": []
  }
 ],
 "metadata": {
  "kernelspec": {
   "display_name": "Python 3",
   "language": "python",
   "name": "python3"
  },
  "language_info": {
   "codemirror_mode": {
    "name": "ipython",
    "version": 3
   },
   "file_extension": ".py",
   "mimetype": "text/x-python",
   "name": "python",
   "nbconvert_exporter": "python",
   "pygments_lexer": "ipython3",
   "version": "3.6.5"
  }
 },
 "nbformat": 4,
 "nbformat_minor": 2
}
