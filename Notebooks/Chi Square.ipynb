{
 "cells": [
  {
   "cell_type": "code",
   "execution_count": 33,
   "metadata": {},
   "outputs": [
    {
     "name": "stdout",
     "output_type": "stream",
     "text": [
      "0.0 {'Fully Paid': 10410, 'Charged Off': 2980}\n",
      "1.0 {'Fully Paid': 132, 'Charged Off': 33}\n",
      "2.0 {'Fully Paid': 42, 'Charged Off': 5}\n",
      "3.0 {'Fully Paid': 8, 'Charged Off': 7}\n",
      "4.0 {'Fully Paid': 7, 'Charged Off': 3}\n",
      "6.0 {'Fully Paid': 3, 'Charged Off': 0}\n",
      "10.0 {'Fully Paid': 1, 'Charged Off': 0}\n",
      "5.0 {'Fully Paid': 2, 'Charged Off': 1}\n",
      "9.0 {'Fully Paid': 0, 'Charged Off': 1}\n",
      "dof=8\n",
      "[[1.04144444e+04 2.97555556e+03]\n",
      " [1.28333333e+02 3.66666667e+01]\n",
      " [3.65555556e+01 1.04444444e+01]\n",
      " [1.16666667e+01 3.33333333e+00]\n",
      " [7.77777778e+00 2.22222222e+00]\n",
      " [2.33333333e+00 6.66666667e-01]\n",
      " [7.77777778e-01 2.22222222e-01]\n",
      " [2.33333333e+00 6.66666667e-01]\n",
      " [7.77777778e-01 2.22222222e-01]]\n",
      "probability=0.950, critical=15.507, stat=14.522\n",
      "Independent (fail to reject H0)\n",
      "significance=0.050, p=0.069\n",
      "Independent (fail to reject H0)\n"
     ]
    }
   ],
   "source": [
    "import pandas as pd\n",
    "from scipy.stats import chi2_contingency\n",
    "from scipy.stats import chi2\n",
    "df=pd.read_csv(\"C:/Users/rauna/Desktop/IDS project/credit_train_clean_sample_no_outliers2_clean.csv\")\n",
    "d={}\n",
    "for i in range(len(df['Tax Liens'])):\n",
    "    if df['Tax Liens'][i] not in d:\n",
    "        d[df['Tax Liens'][i]]={}\n",
    "        d[df['Tax Liens'][i]]['Fully Paid']=0\n",
    "        d[df['Tax Liens'][i]]['Charged Off']=0\n",
    "    d[df['Tax Liens'][i]][df['Loan Status'][i]]+=1\n",
    "for i in d:\n",
    "    print(i, d[i])\n",
    "table=[]\n",
    "c=0\n",
    "for i in d:\n",
    "    table.append([])\n",
    "    for j in d[i]:\n",
    "        table[c].append(d[i][j])\n",
    "    c+=1\n",
    "stat, p, dof, expected = chi2_contingency(table)\n",
    "print('dof=%d' % dof)\n",
    "print(expected)\n",
    "# interpret test-statistic\n",
    "prob = 0.95\n",
    "critical = chi2.ppf(prob, dof)\n",
    "print('probability=%.3f, critical=%.3f, stat=%.3f' % (prob, critical, stat))\n",
    "if abs(stat) >= critical:\n",
    "\tprint('Dependent (reject H0 as stat>=critical)')\n",
    "else:\n",
    "\tprint('Independent (fail to reject H0)')\n",
    "# interpret p-value\n",
    "alpha = 1.0 - prob\n",
    "print('significance=%.3f, p=%.3f' % (alpha, p))\n",
    "if p <= alpha:\n",
    "\tprint('Dependent (reject H0 as p<=alpha)')\n",
    "else:\n",
    "\tprint('Independent (fail to reject H0)')"
   ]
  },
  {
   "cell_type": "code",
   "execution_count": null,
   "metadata": {},
   "outputs": [],
   "source": []
  }
 ],
 "metadata": {
  "kernelspec": {
   "display_name": "Python 3",
   "language": "python",
   "name": "python3"
  },
  "language_info": {
   "codemirror_mode": {
    "name": "ipython",
    "version": 3
   },
   "file_extension": ".py",
   "mimetype": "text/x-python",
   "name": "python",
   "nbconvert_exporter": "python",
   "pygments_lexer": "ipython3",
   "version": "3.6.5"
  }
 },
 "nbformat": 4,
 "nbformat_minor": 2
}
