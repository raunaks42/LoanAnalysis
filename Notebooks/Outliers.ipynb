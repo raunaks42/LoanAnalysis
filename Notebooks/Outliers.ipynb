{
 "cells": [
  {
   "cell_type": "code",
   "execution_count": 9,
   "metadata": {},
   "outputs": [
    {
     "name": "stdout",
     "output_type": "stream",
     "text": [
      "Start\n",
      "Daemon\n"
     ]
    }
   ],
   "source": [
    "import pandas as pd\n",
    "#data=pd.read_csv(\"C:/Users/rauna/Desktop/IDS Project/credit_train_clean_sample.csv\")\n",
    "data=pd.read_csv(\"C:/Users/rauna/Desktop/IDS Project/credit_train_clean_sample_no_outliers1.csv\")\n",
    "low=list(map(lambda x,y: x-1.5*y,(data.quantile(q=0.25)),(data.quantile(q=0.75)-data.quantile(q=0.25))))\n",
    "high=list(map(lambda x,y: x+1.5*y,(data.quantile(q=0.75)),(data.quantile(q=0.75)-data.quantile(q=0.25))))\n",
    "print('Start')\n",
    "for i in range(len(data['Current Loan Amount'])):\n",
    "    if (data['Current Loan Amount'][i]>high[1] or data['Current Loan Amount'][i]<low[1]):\n",
    "        data=data.drop(i)\n",
    "        continue\n",
    "    if (data['Credit Score'][i]>high[2] or data['Credit Score'][i]<low[2]):\n",
    "        data=data.drop(i)\n",
    "        continue\n",
    "    if (data['Annual Income'][i]>high[3] or data['Annual Income'][i]<low[3]):\n",
    "        data=data.drop(i)\n",
    "        continue\n",
    "    if (data['Monthly Debt'][i]>high[4] or data['Monthly Debt'][i]<low[4]):\n",
    "        data=data.drop(i)\n",
    "        continue\n",
    "    if (data['Years of Credit History'][i]>high[5] or data['Years of Credit History'][i]<low[5]):\n",
    "        data=data.drop(i)\n",
    "        continue\n",
    "    if (data['Months since last delinquent'][i]>high[6] or data['Months since last delinquent'][i]<low[6]):\n",
    "        data=data.drop(i)\n",
    "        continue\n",
    "    if (data['Number of Open Accounts'][i]>high[7] or data['Number of Open Accounts'][i]<low[7]):\n",
    "        data=data.drop(i)\n",
    "        continue\n",
    "    if (data['Current Credit Balance'][i]>high[9] or data['Current Credit Balance'][i]<low[9]):\n",
    "        data=data.drop(i)\n",
    "        continue\n",
    "    if (data['Maximum Open Credit'][i]>high[10] or data['Maximum Open Credit'][i]<low[10]):\n",
    "        data=data.drop(i)\n",
    "        continue\n",
    "    i+=1\n",
    "data=data.drop(columns='Unnamed: 0')\n",
    "print('Daemon')\n",
    "#data.to_csv(\"C:/Users/rauna/Desktop/IDS project/credit_train_clean_sample_no_outliers1.csv\")\n",
    "data.to_csv(\"C:/Users/rauna/Desktop/IDS project/credit_train_clean_sample_no_outliers2.csv\")"
   ]
  },
  {
   "cell_type": "code",
   "execution_count": null,
   "metadata": {},
   "outputs": [],
   "source": []
  },
  {
   "cell_type": "code",
   "execution_count": null,
   "metadata": {},
   "outputs": [],
   "source": []
  }
 ],
 "metadata": {
  "kernelspec": {
   "display_name": "Python 3",
   "language": "python",
   "name": "python3"
  },
  "language_info": {
   "codemirror_mode": {
    "name": "ipython",
    "version": 3
   },
   "file_extension": ".py",
   "mimetype": "text/x-python",
   "name": "python",
   "nbconvert_exporter": "python",
   "pygments_lexer": "ipython3",
   "version": "3.6.5"
  }
 },
 "nbformat": 4,
 "nbformat_minor": 2
}
