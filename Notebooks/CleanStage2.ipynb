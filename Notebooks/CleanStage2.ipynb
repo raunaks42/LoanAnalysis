{
 "cells": [
  {
   "cell_type": "code",
   "execution_count": 4,
   "metadata": {},
   "outputs": [
    {
     "name": "stdout",
     "output_type": "stream",
     "text": [
      "Daemon\n"
     ]
    }
   ],
   "source": [
    "import pandas as pd\n",
    "data=pd.read_csv(\"C:/Users/rauna/Desktop/IDS project/credit_train_clean_sample_no_outliers2.csv\")\n",
    "data['Tax Liens']=data['Tax Liens'].fillna('0.0')\n",
    "data['Bankruptcies']=data['Bankruptcies'].fillna('0.0')\n",
    "i=0\n",
    "for row in data['Home Ownership']:\n",
    "    if(row=='HaveMortgage'):\n",
    "        data.loc[i,'Home Ownership']='Home Mortgage'\n",
    "    i=i+1\n",
    "data=data.drop(columns='Unnamed: 0')\n",
    "print('Daemon')\n",
    "data.to_csv(\"C:/Users/rauna/Desktop/IDS project/credit_train_clean_sample_no_outliers2_clean.csv\")"
   ]
  },
  {
   "cell_type": "code",
   "execution_count": null,
   "metadata": {},
   "outputs": [],
   "source": []
  }
 ],
 "metadata": {
  "kernelspec": {
   "display_name": "Python 3",
   "language": "python",
   "name": "python3"
  },
  "language_info": {
   "codemirror_mode": {
    "name": "ipython",
    "version": 3
   },
   "file_extension": ".py",
   "mimetype": "text/x-python",
   "name": "python",
   "nbconvert_exporter": "python",
   "pygments_lexer": "ipython3",
   "version": "3.6.5"
  }
 },
 "nbformat": 4,
 "nbformat_minor": 2
}
