{
 "cells": [
  {
   "cell_type": "code",
   "execution_count": 8,
   "metadata": {},
   "outputs": [
    {
     "name": "stdout",
     "output_type": "stream",
     "text": [
      "Counter({'Rent': 6386, 'Home Mortgage': 5977, 'Own Home': 1272})\n"
     ]
    },
    {
     "data": {
      "image/png": "[encoded data removed]",
      "text/plain": [
       "<Figure size 432x288 with 1 Axes>"
      ]
     },
     "metadata": {},
     "output_type": "display_data"
    }
   ],
   "source": [
    "#bank\n",
    "import csv #to import file\n",
    "import matplotlib.pyplot as plt #for bar graph\n",
    "import numpy as np\n",
    "from collections import Counter\n",
    "bank=[]\n",
    "\n",
    "file=open('C:/Users/rauna/Desktop/IDS Project/credit_train_clean_sample_no_outliers2_clean.csv') #PATH FOR DORMANT.CSV FILE\n",
    "reader=csv.reader(file)\n",
    "next(reader)\n",
    "\n",
    "\n",
    "for row in reader:\n",
    "    bank.append(row[9])\n",
    "    \n",
    "freq=Counter(bank)\n",
    "print(freq)\n",
    "\n",
    "x=np.arange(len(freq))\n",
    "plt.bar(x,freq.values(),color='c')\n",
    "plt.xticks(x,list(freq),rotation=0) #+0.5 required for formatting in some systems, rotation=45 displays name tilted by 45 deg\n",
    "plt.show()"
   ]
  },
  {
   "cell_type": "code",
   "execution_count": null,
   "metadata": {},
   "outputs": [],
   "source": []
  }
 ],
 "metadata": {
  "kernelspec": {
   "display_name": "Python 3",
   "language": "python",
   "name": "python3"
  },
  "language_info": {
   "codemirror_mode": {
    "name": "ipython",
    "version": 3
   },
   "file_extension": ".py",
   "mimetype": "text/x-python",
   "name": "python",
   "nbconvert_exporter": "python",
   "pygments_lexer": "ipython3",
   "version": "3.6.5"
  }
 },
 "nbformat": 4,
 "nbformat_minor": 2
}
